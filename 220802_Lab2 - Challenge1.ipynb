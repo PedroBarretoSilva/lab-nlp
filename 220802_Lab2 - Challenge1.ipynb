{
 "cells": [
  {
   "cell_type": "markdown",
   "id": "7dcd93ec",
   "metadata": {},
   "source": [
    "# Text Cleaning"
   ]
  },
  {
   "cell_type": "code",
   "execution_count": 1,
   "id": "cbbe0621",
   "metadata": {},
   "outputs": [],
   "source": [
    "# In this challenge we are keeping things relatively simple so you only need to clean up special characters, numbers, \n",
    "# and URLs. #Let's say you have the following messy string to clean up:\n",
    "\n",
    "# @Ironhack's-#Q website 776-is http://ironhack.com [(2018)]\")\n",
    "# You will write a function, which will be part of you NLP analysis pipeline in the next challenge, \n",
    "# to clean up strings like #above and output:\n",
    "\n",
    "# ironhack s  q website  is\n",
    "# In the cell below, write a function called clean_up. Test your function with the above string and make sure you receive\n",
    "# the expected output."
   ]
  },
  {
   "cell_type": "code",
   "execution_count": 2,
   "id": "31a68486",
   "metadata": {},
   "outputs": [],
   "source": [
    "import re \n",
    "import nltk\n",
    "from nltk.corpus import stopwords \n",
    "from nltk.stem import WordNetLemmatizer \n",
    "from nltk.tokenize import word_tokenize \n",
    "from nltk.stem import PorterStemmer "
   ]
  },
  {
   "cell_type": "code",
   "execution_count": null,
   "id": "1ccfb12c",
   "metadata": {},
   "outputs": [],
   "source": []
  },
  {
   "cell_type": "code",
   "execution_count": 3,
   "id": "708bf534",
   "metadata": {},
   "outputs": [
    {
     "name": "stderr",
     "output_type": "stream",
     "text": [
      "[nltk_data] Downloading package stopwords to\n",
      "[nltk_data]     C:\\Users\\pbsil\\AppData\\Roaming\\nltk_data...\n",
      "[nltk_data]   Package stopwords is already up-to-date!\n",
      "[nltk_data] Downloading package wordnet to\n",
      "[nltk_data]     C:\\Users\\pbsil\\AppData\\Roaming\\nltk_data...\n",
      "[nltk_data]   Package wordnet is already up-to-date!\n",
      "[nltk_data] Downloading package punkt to\n",
      "[nltk_data]     C:\\Users\\pbsil\\AppData\\Roaming\\nltk_data...\n",
      "[nltk_data]   Package punkt is already up-to-date!\n"
     ]
    },
    {
     "data": {
      "text/plain": [
       "True"
      ]
     },
     "execution_count": 3,
     "metadata": {},
     "output_type": "execute_result"
    }
   ],
   "source": [
    "nltk.download('stopwords') \n",
    "nltk.download('wordnet')\n",
    "nltk.download('punkt')"
   ]
  },
  {
   "cell_type": "code",
   "execution_count": 4,
   "id": "6374c7ef",
   "metadata": {},
   "outputs": [],
   "source": [
    "text = '@Ironhack\\'s-#Q website 776-is http://ironhack.com [(2018)]\")'"
   ]
  },
  {
   "cell_type": "code",
   "execution_count": 5,
   "id": "30bed8c3",
   "metadata": {},
   "outputs": [],
   "source": [
    "\n",
    "def clean_up(c):\n",
    "    \n",
    "    lower = c.lower()\n",
    "    no_url = re.sub('http\\S+', '',lower)\n",
    "    string_list = re.findall('[a-z]+',no_url)\n",
    "\n",
    "    return ' '.join(string_list)"
   ]
  },
  {
   "cell_type": "code",
   "execution_count": 6,
   "id": "39ad62a1",
   "metadata": {},
   "outputs": [],
   "source": [
    "cleaned_up = clean_up(text)"
   ]
  },
  {
   "cell_type": "code",
   "execution_count": 7,
   "id": "9a062860",
   "metadata": {},
   "outputs": [
    {
     "data": {
      "text/plain": [
       "'ironhack s q website is'"
      ]
     },
     "execution_count": 7,
     "metadata": {},
     "output_type": "execute_result"
    }
   ],
   "source": [
    "cleaned_up"
   ]
  },
  {
   "cell_type": "code",
   "execution_count": null,
   "id": "49b2b92c",
   "metadata": {},
   "outputs": [],
   "source": []
  },
  {
   "cell_type": "markdown",
   "id": "90446550",
   "metadata": {},
   "source": [
    "# Tokenization"
   ]
  },
  {
   "cell_type": "code",
   "execution_count": 8,
   "id": "0ea825a3",
   "metadata": {},
   "outputs": [],
   "source": [
    "#We have actually discussed the concept of tokenization in the Bag of Words lab before. In that lab, we did both tokenization\n",
    "#and calculated the matrix of document-term frequency. In this lab, we only need tokenization.\n",
    "\n",
    "#In the cell below, write a function called tokenize to convert a string to a list of words. We'll use the string we received \n",
    "# in the previous step ironhack s  q website  is to test your function. Your function shoud return:\n",
    "\n",
    "#['ironhack', 's', 'q', 'website', 'is']"
   ]
  },
  {
   "cell_type": "code",
   "execution_count": 9,
   "id": "d6eb323d",
   "metadata": {},
   "outputs": [
    {
     "data": {
      "text/plain": [
       "['ironhack', 's', 'q', 'website', 'is']"
      ]
     },
     "execution_count": 9,
     "metadata": {},
     "output_type": "execute_result"
    }
   ],
   "source": [
    "def tokenize(t):\n",
    "    return nltk.word_tokenize(t)\n",
    "    \n",
    "sentence = clean_up(text)\n",
    "\n",
    "tokenize(sentence)"
   ]
  },
  {
   "cell_type": "code",
   "execution_count": null,
   "id": "d9eb2786",
   "metadata": {},
   "outputs": [],
   "source": []
  },
  {
   "cell_type": "markdown",
   "id": "108715bd",
   "metadata": {},
   "source": [
    "# Stemming and Lemmatization"
   ]
  },
  {
   "cell_type": "code",
   "execution_count": 10,
   "id": "3755051a",
   "metadata": {},
   "outputs": [],
   "source": [
    "# In the cell below, import the necessary libraries and define a function called stem_and_lemmatize that performs both \n",
    "# stemming and lemmatization on a list of words. Don't worry about the POS part of lemmatization for now."
   ]
  },
  {
   "cell_type": "code",
   "execution_count": 11,
   "id": "10d0108c",
   "metadata": {},
   "outputs": [
    {
     "data": {
      "text/plain": [
       "['ironhack', 's', 'q', 'websit', 'is']"
      ]
     },
     "execution_count": 11,
     "metadata": {},
     "output_type": "execute_result"
    }
   ],
   "source": [
    "def stem_and_lemmatize(l):\n",
    "    \n",
    "    ls_list = [] \n",
    "    \n",
    "    lemmatizer = WordNetLemmatizer()\n",
    "    stemmer = PorterStemmer()\n",
    "    \n",
    "    for word in l:\n",
    "        lem = lemmatizer.lemmatize(word)\n",
    "        stem = stemmer.stem(lem)\n",
    "        ls_list.append(stem)\n",
    "    \n",
    "    return ls_list\n",
    "\n",
    "token_list = tokenize(sentence)\n",
    "stem_lem = stem_and_lemmatize(token_list)\n",
    "stem_lem"
   ]
  },
  {
   "cell_type": "code",
   "execution_count": null,
   "id": "781b1fac",
   "metadata": {},
   "outputs": [],
   "source": []
  },
  {
   "cell_type": "markdown",
   "id": "42023d27",
   "metadata": {},
   "source": [
    "# Stop Words Removal"
   ]
  },
  {
   "cell_type": "code",
   "execution_count": 12,
   "id": "032e022e",
   "metadata": {},
   "outputs": [],
   "source": [
    "# Now in the cell below, create a function called remove_stopwords that loop through a list of words that have been stemmed\n",
    "# and lemmatized to check and remove stop words. Return a new list where stop words have been removed.\n"
   ]
  },
  {
   "cell_type": "code",
   "execution_count": 13,
   "id": "2634c3c2",
   "metadata": {},
   "outputs": [
    {
     "data": {
      "text/plain": [
       "['ironhack', 'q', 'websit']"
      ]
     },
     "execution_count": 13,
     "metadata": {},
     "output_type": "execute_result"
    }
   ],
   "source": [
    "def remove_stopwords(l):\n",
    "    \n",
    "    stop_words = set(stopwords.words('english'))\n",
    "    \n",
    "    filtered_sentence = [w for w in l if not w in stop_words]\n",
    "    \n",
    "    return filtered_sentence\n",
    "\n",
    "remove_stopwords(stem_lem)\n",
    "\n"
   ]
  },
  {
   "cell_type": "code",
   "execution_count": null,
   "id": "e360ee40",
   "metadata": {},
   "outputs": [],
   "source": []
  }
 ],
 "metadata": {
  "kernelspec": {
   "display_name": "Python 3 (ipykernel)",
   "language": "python",
   "name": "python3"
  },
  "language_info": {
   "codemirror_mode": {
    "name": "ipython",
    "version": 3
   },
   "file_extension": ".py",
   "mimetype": "text/x-python",
   "name": "python",
   "nbconvert_exporter": "python",
   "pygments_lexer": "ipython3",
   "version": "3.9.7"
  }
 },
 "nbformat": 4,
 "nbformat_minor": 5
}
